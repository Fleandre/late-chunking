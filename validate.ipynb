{
 "cells": [
  {
   "cell_type": "code",
   "execution_count": 15,
   "metadata": {},
   "outputs": [],
   "source": [
    "from sentence_transformers import SentenceTransformer\n",
    "from transformers import AutoModel, AutoTokenizer\n",
    "from FlagEmbedding import BGEM3FlagModel\n",
    "import numpy as np\n",
    "import torch\n",
    "\n",
    "model_name = \"BAAI/bge-m3\"\n",
    "a = \"这是个阴谋\"\n",
    "b = \"This is a test sentence\""
   ]
  },
  {
   "cell_type": "code",
   "execution_count": 18,
   "metadata": {},
   "outputs": [],
   "source": [
    "def mean_pooling(embedings):\n",
    "    return embedings.mean(axis=0)\n",
    "\n",
    "def noramlize(x):\n",
    "    return x / np.linalg.norm(x, axis=0)\n",
    "\n",
    "\n",
    "def get_sentencen_trans_embed(text_input, cls=False):\n",
    "    with torch.no_grad():\n",
    "        sentence_model = SentenceTransformer(model_name, trust_remote_code=True)\n",
    "\n",
    "    token_embs = sentence_model.encode(text_input, output_value=\"token_embeddings\", normalize_embeddings=True)\n",
    "    if cls:\n",
    "        return token_embs.detach().cpu().numpy()[0]\n",
    "    return token_embs.detach().cpu().numpy()[1:]\n",
    "\n",
    "\n",
    "def get_flag_embed(text_input, cls=False):\n",
    "    model = BGEM3FlagModel(model_name,  use_fp16=True) \n",
    "\n",
    "\n",
    "    output_1 = model.encode([text_input], return_dense=True, return_sparse=True, return_colbert_vecs=True)\n",
    "\n",
    "    if cls:\n",
    "        return output_1['dense_vecs']\n",
    "    return output_1['colbert_vecs']"
   ]
  },
  {
   "cell_type": "code",
   "execution_count": 20,
   "metadata": {},
   "outputs": [
    {
     "name": "stdout",
     "output_type": "stream",
     "text": [
      "0.72376466\n"
     ]
    },
    {
     "name": "stderr",
     "output_type": "stream",
     "text": [
      "Fetching 30 files: 100%|██████████| 30/30 [00:00<00:00, 91312.86it/s]\n"
     ]
    },
    {
     "ename": "AttributeError",
     "evalue": "'list' object has no attribute 'mean'",
     "output_type": "error",
     "traceback": [
      "\u001b[0;31m---------------------------------------------------------------------------\u001b[0m",
      "\u001b[0;31mAttributeError\u001b[0m                            Traceback (most recent call last)",
      "Cell \u001b[0;32mIn[20], line 6\u001b[0m\n\u001b[1;32m      2\u001b[0m sentence_embed_b \u001b[38;5;241m=\u001b[39m noramlize(mean_pooling(get_sentencen_trans_embed(b)))\n\u001b[1;32m      4\u001b[0m \u001b[38;5;28mprint\u001b[39m(np\u001b[38;5;241m.\u001b[39mdot(sentence_embed_a, sentence_embed_b))\n\u001b[0;32m----> 6\u001b[0m flag_embed_a \u001b[38;5;241m=\u001b[39m noramlize(\u001b[43mmean_pooling\u001b[49m\u001b[43m(\u001b[49m\u001b[43mget_flag_embed\u001b[49m\u001b[43m(\u001b[49m\u001b[43ma\u001b[49m\u001b[43m)\u001b[49m\u001b[43m)\u001b[49m)\n\u001b[1;32m      7\u001b[0m flag_embed_b \u001b[38;5;241m=\u001b[39m noramlize(mean_pooling(get_flag_embed(b)))\n\u001b[1;32m      8\u001b[0m \u001b[38;5;28mprint\u001b[39m(np\u001b[38;5;241m.\u001b[39mdot(flag_embed_a, flag_embed_b))\n",
      "Cell \u001b[0;32mIn[18], line 2\u001b[0m, in \u001b[0;36mmean_pooling\u001b[0;34m(embedings)\u001b[0m\n\u001b[1;32m      1\u001b[0m \u001b[38;5;28;01mdef\u001b[39;00m \u001b[38;5;21mmean_pooling\u001b[39m(embedings):\n\u001b[0;32m----> 2\u001b[0m     \u001b[38;5;28;01mreturn\u001b[39;00m \u001b[43membedings\u001b[49m\u001b[38;5;241;43m.\u001b[39;49m\u001b[43mmean\u001b[49m(axis\u001b[38;5;241m=\u001b[39m\u001b[38;5;241m0\u001b[39m)\n",
      "\u001b[0;31mAttributeError\u001b[0m: 'list' object has no attribute 'mean'"
     ]
    }
   ],
   "source": [
    "sentence_embed_a = noramlize(mean_pooling(get_sentencen_trans_embed(a)))\n",
    "sentence_embed_b = noramlize(mean_pooling(get_sentencen_trans_embed(b)))\n",
    "\n",
    "print(np.dot(sentence_embed_a, sentence_embed_b))\n",
    "\n",
    "flag_embed_a = noramlize(mean_pooling(get_flag_embed(a)))\n",
    "flag_embed_b = noramlize(mean_pooling(get_flag_embed(b)))\n",
    "print(np.dot(flag_embed_a, flag_embed_b))\n",
    "\n",
    "\n",
    "# print(sentence_embed)\n",
    "# print(flag_embed)\n",
    "\n",
    "# print(sentence_embed == flag_embed)"
   ]
  },
  {
   "cell_type": "code",
   "execution_count": 11,
   "metadata": {},
   "outputs": [
    {
     "name": "stdout",
     "output_type": "stream",
     "text": [
      "0.5701115\n"
     ]
    },
    {
     "name": "stderr",
     "output_type": "stream",
     "text": [
      "Fetching 30 files: 100%|██████████| 30/30 [00:00<00:00, 254714.82it/s]\n",
      "Fetching 30 files: 100%|██████████| 30/30 [00:00<00:00, 271183.45it/s]\n"
     ]
    },
    {
     "name": "stdout",
     "output_type": "stream",
     "text": [
      "0.5703\n"
     ]
    }
   ],
   "source": [
    "sentence_embed_a = noramlize(get_sentencen_trans_embed(a, cls=True))\n",
    "sentence_embed_b = noramlize(get_sentencen_trans_embed(b, cls=True))\n",
    "\n",
    "print(np.dot(sentence_embed_a, sentence_embed_b))\n",
    "\n",
    "flag_embed_a = get_flag_embed(a, cls=True)\n",
    "flag_embed_b = get_flag_embed(b, cls=True)\n",
    "print(np.dot(flag_embed_a, flag_embed_b))"
   ]
  },
  {
   "cell_type": "code",
   "execution_count": null,
   "metadata": {},
   "outputs": [],
   "source": [
    "from chunked_pooling.wrappers import BAAIBGEM3Wrapper\n"
   ]
  }
 ],
 "metadata": {
  "kernelspec": {
   "display_name": "Python 3",
   "language": "python",
   "name": "python3"
  },
  "language_info": {
   "codemirror_mode": {
    "name": "ipython",
    "version": 3
   },
   "file_extension": ".py",
   "mimetype": "text/x-python",
   "name": "python",
   "nbconvert_exporter": "python",
   "pygments_lexer": "ipython3",
   "version": "3.10.15"
  }
 },
 "nbformat": 4,
 "nbformat_minor": 2
}
