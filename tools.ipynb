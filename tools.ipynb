{
 "cells": [
  {
   "cell_type": "markdown",
   "metadata": {},
   "source": [
    "# 调整benchmark.json以使其合法"
   ]
  },
  {
   "cell_type": "code",
   "execution_count": 15,
   "metadata": {},
   "outputs": [],
   "source": [
    "import json\n",
    "\n",
    "OUTPUT_DIR = \"results\"\n",
    "\n",
    "def load_existing_results():\n",
    "    evaluated_key = dict()\n",
    "    # 读取已有的结果\n",
    "    with open(f\"{OUTPUT_DIR}/benchmark copy.json\", \"r\") as f:\n",
    "        content = json.load(f)\n",
    "    correct = []\n",
    "    for idx, eval_res in enumerate(content):\n",
    "        if eval_res is None:\n",
    "            continue\n",
    "        eval_setting = {\n",
    "            \"task_name\": eval_res[\"task_name\"],\n",
    "            \"model_name\": eval_res[\"model_name\"],\n",
    "            \"chunking_strategy\": eval_res[\"chunking_strategy\"],\n",
    "            \"chunk_size\": eval_res[\"chunk_size\"],\n",
    "        }\n",
    "        key = json.dumps(eval_setting, sort_keys=True)\n",
    "        if key in evaluated_key:\n",
    "            print(f\"key: {key}\")\n",
    "            print(f\"found@{idx}: {eval_res}\")\n",
    "            print(f\"duplicate@{evaluated_key[key][1]}: {evaluated_key[key][0]}\")\n",
    "            print(\"\\n\\n\")\n",
    "            continue\n",
    "        correct.append(eval_res)\n",
    "        evaluated_key[key] = (eval_res, idx)\n",
    "    with open(f\"{OUTPUT_DIR}/benchmark copy.json\", \"w\", encoding=\"utf-8\") as f:\n",
    "        json.dump(correct, f, ensure_ascii=False, indent=4)\n",
    "\n",
    "load_existing_results()"
   ]
  },
  {
   "cell_type": "markdown",
   "metadata": {},
   "source": [
    "# 统计各数据集的大小"
   ]
  },
  {
   "cell_type": "code",
   "execution_count": 3,
   "metadata": {},
   "outputs": [
    {
     "name": "stderr",
     "output_type": "stream",
     "text": [
      "Map: 100%|██████████| 1406/1406 [00:00<00:00, 23623.07 examples/s]\n"
     ]
    },
    {
     "name": "stdout",
     "output_type": "stream",
     "text": [
      "ArguAnaChunked: NumOfQueries: 1406, NumOfCorpus:8674, total: 10080\n"
     ]
    },
    {
     "name": "stderr",
     "output_type": "stream",
     "text": [
      "Map: 100%|██████████| 4681/4681 [00:00<00:00, 30193.97 examples/s]\n"
     ]
    },
    {
     "name": "stdout",
     "output_type": "stream",
     "text": [
      "ClimateFEVERChunked: NumOfQueries: 1535, NumOfCorpus:5416593, total: 5418128\n"
     ]
    },
    {
     "name": "stderr",
     "output_type": "stream",
     "text": [
      "Casting the dataset: 100%|██████████| 5673/5673 [00:00<00:00, 426352.14 examples/s]\n",
      "Map: 100%|██████████| 5673/5673 [00:00<00:00, 34252.65 examples/s]\n",
      "Filter: 100%|██████████| 467/467 [00:00<00:00, 60934.51 examples/s]\n",
      "Map: 100%|██████████| 43515/43515 [00:01<00:00, 32656.56 examples/s]\n"
     ]
    },
    {
     "name": "stdout",
     "output_type": "stream",
     "text": [
      "DBPediaChunked: NumOfQueries: 400, NumOfCorpus:4635922, total: 4636322\n"
     ]
    },
    {
     "name": "stderr",
     "output_type": "stream",
     "text": [
      "Casting the dataset: 100%|██████████| 140085/140085 [00:00<00:00, 2462042.58 examples/s]\n",
      "Map: 100%|██████████| 140085/140085 [00:04<00:00, 32528.11 examples/s]\n",
      "Filter: 100%|██████████| 123142/123142 [00:00<00:00, 454318.34 examples/s]\n",
      "Casting the dataset: 100%|██████████| 8079/8079 [00:00<00:00, 1532946.48 examples/s]\n",
      "Map: 100%|██████████| 8079/8079 [00:00<00:00, 33278.35 examples/s]\n",
      "Filter: 100%|██████████| 123142/123142 [00:00<00:00, 525737.45 examples/s]\n",
      "Map: 100%|██████████| 7937/7937 [00:00<00:00, 29251.47 examples/s]\n"
     ]
    },
    {
     "name": "stdout",
     "output_type": "stream",
     "text": [
      "FEVERChunked: NumOfQueries: 6666, NumOfCorpus:5416568, total: 5423234\n"
     ]
    },
    {
     "name": "stderr",
     "output_type": "stream",
     "text": [
      "Casting the dataset: 100%|██████████| 170000/170000 [00:00<00:00, 2207145.76 examples/s]\n",
      "Map: 100%|██████████| 170000/170000 [00:04<00:00, 34141.46 examples/s]\n",
      "Filter: 100%|██████████| 97852/97852 [00:00<00:00, 430816.31 examples/s]\n",
      "Casting the dataset: 100%|██████████| 10894/10894 [00:00<00:00, 1073204.34 examples/s]\n",
      "Map: 100%|██████████| 10894/10894 [00:00<00:00, 31693.97 examples/s]\n",
      "Filter: 100%|██████████| 97852/97852 [00:00<00:00, 521912.51 examples/s]\n",
      "Map: 100%|██████████| 14810/14810 [00:00<00:00, 32806.87 examples/s]\n"
     ]
    },
    {
     "name": "stdout",
     "output_type": "stream",
     "text": [
      "HotpotQAChunked: NumOfQueries: 7405, NumOfCorpus:5233329, total: 5240734\n"
     ]
    },
    {
     "name": "stderr",
     "output_type": "stream",
     "text": [
      "Casting the dataset: 100%|██████████| 532751/532751 [00:00<00:00, 2807534.67 examples/s]\n",
      "Map: 100%|██████████| 532751/532751 [00:17<00:00, 31083.68 examples/s]\n",
      "Filter: 100%|██████████| 509962/509962 [00:01<00:00, 412982.29 examples/s]\n",
      "Casting the dataset: 100%|██████████| 7437/7437 [00:00<00:00, 317761.31 examples/s]\n",
      "Map: 100%|██████████| 7437/7437 [00:00<00:00, 29931.40 examples/s]\n",
      "Filter: 100%|██████████| 509962/509962 [00:01<00:00, 504039.54 examples/s]\n",
      "Map: 100%|██████████| 9260/9260 [00:00<00:00, 33182.95 examples/s]\n"
     ]
    },
    {
     "name": "stdout",
     "output_type": "stream",
     "text": [
      "MSMARCOChunked: NumOfQueries: 43, NumOfCorpus:8841823, total: 8841866\n"
     ]
    },
    {
     "name": "stderr",
     "output_type": "stream",
     "text": [
      "Casting the dataset: 100%|██████████| 919/919 [00:00<00:00, 220689.65 examples/s]\n",
      "Map: 100%|██████████| 919/919 [00:00<00:00, 21059.86 examples/s]\n",
      "Filter: 100%|██████████| 1109/1109 [00:00<00:00, 222463.20 examples/s]\n",
      "Map: 100%|██████████| 339/339 [00:00<00:00, 24582.37 examples/s]\n"
     ]
    },
    {
     "name": "stdout",
     "output_type": "stream",
     "text": [
      "SciFactChunked: NumOfQueries: 300, NumOfCorpus:5183, total: 5483\n",
      "NarrativeQAChunked: NumOfQueries: 10557, NumOfCorpus:355, total: 10912\n"
     ]
    },
    {
     "name": "stderr",
     "output_type": "stream",
     "text": [
      "Map: 100%|██████████| 12334/12334 [00:00<00:00, 33299.35 examples/s]\n"
     ]
    },
    {
     "name": "stdout",
     "output_type": "stream",
     "text": [
      "NFCorpusChunked: NumOfQueries: 323, NumOfCorpus:3633, total: 3956\n"
     ]
    },
    {
     "name": "stderr",
     "output_type": "stream",
     "text": [
      "Map: 100%|██████████| 7626/7626 [00:00<00:00, 32457.30 examples/s]\n",
      "Map: 100%|██████████| 15675/15675 [00:00<00:00, 32985.30 examples/s]\n"
     ]
    },
    {
     "name": "stdout",
     "output_type": "stream",
     "text": [
      "QuoraChunked: NumOfQueries: 10000, NumOfCorpus:522931, total: 532931\n"
     ]
    },
    {
     "name": "stderr",
     "output_type": "stream",
     "text": [
      "Map: 100%|██████████| 14166/14166 [00:00<00:00, 32800.23 examples/s]\n",
      "Map: 100%|██████████| 1238/1238 [00:00<00:00, 23219.79 examples/s]\n",
      "Map: 100%|██████████| 1706/1706 [00:00<00:00, 31877.23 examples/s]\n"
     ]
    },
    {
     "name": "stdout",
     "output_type": "stream",
     "text": [
      "FiQA2018Chunked: NumOfQueries: 648, NumOfCorpus:57638, total: 58286\n"
     ]
    },
    {
     "name": "stderr",
     "output_type": "stream",
     "text": [
      "Map: 100%|██████████| 66336/66336 [00:01<00:00, 34460.22 examples/s]\n"
     ]
    },
    {
     "name": "stdout",
     "output_type": "stream",
     "text": [
      "TRECCOVIDChunked: NumOfQueries: 50, NumOfCorpus:171332, total: 171382\n",
      "LEMBWikimQARetrievalChunked: NumOfQueries: 300, NumOfCorpus:300, total: 600\n"
     ]
    },
    {
     "name": "stderr",
     "output_type": "stream",
     "text": [
      "Map: 100%|██████████| 29928/29928 [00:00<00:00, 34001.48 examples/s]\n"
     ]
    },
    {
     "name": "stdout",
     "output_type": "stream",
     "text": [
      "SCIDOCSChunked: NumOfQueries: 1000, NumOfCorpus:25657, total: 26657\n"
     ]
    },
    {
     "name": "stderr",
     "output_type": "stream",
     "text": [
      "Map: 100%|██████████| 2214/2214 [00:00<00:00, 25155.67 examples/s]\n"
     ]
    },
    {
     "name": "stdout",
     "output_type": "stream",
     "text": [
      "Touche2020Chunked: NumOfQueries: 49, NumOfCorpus:382545, total: 382594\n",
      "CmedqaRetrievalChunked: NumOfQueries: 3999, NumOfCorpus:100001, total: 104000\n",
      "CovidRetrievallChunked: NumOfQueries: 949, NumOfCorpus:100001, total: 100950\n",
      "DuRetrievalChunked: NumOfQueries: 2000, NumOfCorpus:100001, total: 102001\n",
      "EcomRetrievalChunked: NumOfQueries: 1000, NumOfCorpus:100902, total: 101902\n"
     ]
    },
    {
     "name": "stderr",
     "output_type": "stream",
     "text": [
      "Using the latest cached version of the dataset since C-MTEB/MedicalRetrieval couldn't be found on the Hugging Face Hub\n",
      "WARNING:datasets.load:Using the latest cached version of the dataset since C-MTEB/MedicalRetrieval couldn't be found on the Hugging Face Hub\n",
      "Found the latest cached dataset configuration 'default' at /home/zyh/.cache/huggingface/datasets/C-MTEB___medical_retrieval/default/0.0.0/2039188fb5800a9803ba5048df7b76e6fb151fc6 (last modified on Wed Oct  9 10:34:14 2024).\n",
      "WARNING:datasets.packaged_modules.cache.cache:Found the latest cached dataset configuration 'default' at /home/zyh/.cache/huggingface/datasets/C-MTEB___medical_retrieval/default/0.0.0/2039188fb5800a9803ba5048df7b76e6fb151fc6 (last modified on Wed Oct  9 10:34:14 2024).\n",
      "Using the latest cached version of the dataset since C-MTEB/MedicalRetrieval-qrels couldn't be found on the Hugging Face Hub\n",
      "WARNING:datasets.load:Using the latest cached version of the dataset since C-MTEB/MedicalRetrieval-qrels couldn't be found on the Hugging Face Hub\n",
      "Found the latest cached dataset configuration 'default' at /home/zyh/.cache/huggingface/datasets/C-MTEB___medical_retrieval-qrels/default/0.0.0/37b8efec53c54c3d9c6af212f6710b62ccdf895c (last modified on Wed Oct  9 10:34:20 2024).\n",
      "WARNING:datasets.packaged_modules.cache.cache:Found the latest cached dataset configuration 'default' at /home/zyh/.cache/huggingface/datasets/C-MTEB___medical_retrieval-qrels/default/0.0.0/37b8efec53c54c3d9c6af212f6710b62ccdf895c (last modified on Wed Oct  9 10:34:20 2024).\n",
      "Using the latest cached version of the dataset since C-MTEB/MMarcoRetrieval couldn't be found on the Hugging Face Hub\n",
      "WARNING:datasets.load:Using the latest cached version of the dataset since C-MTEB/MMarcoRetrieval couldn't be found on the Hugging Face Hub\n",
      "Found the latest cached dataset configuration 'default' at /home/zyh/.cache/huggingface/datasets/C-MTEB___m_marco_retrieval/default/0.0.0/539bbde593d947e2a124ba72651aafc09eb33fc2 (last modified on Wed Oct  9 10:36:09 2024).\n",
      "WARNING:datasets.packaged_modules.cache.cache:Found the latest cached dataset configuration 'default' at /home/zyh/.cache/huggingface/datasets/C-MTEB___m_marco_retrieval/default/0.0.0/539bbde593d947e2a124ba72651aafc09eb33fc2 (last modified on Wed Oct  9 10:36:09 2024).\n"
     ]
    },
    {
     "name": "stdout",
     "output_type": "stream",
     "text": [
      "MedicalRetrievalChunked: NumOfQueries: 1000, NumOfCorpus:100999, total: 101999\n"
     ]
    },
    {
     "name": "stderr",
     "output_type": "stream",
     "text": [
      "Using the latest cached version of the dataset since C-MTEB/MMarcoRetrieval-qrels couldn't be found on the Hugging Face Hub\n",
      "WARNING:datasets.load:Using the latest cached version of the dataset since C-MTEB/MMarcoRetrieval-qrels couldn't be found on the Hugging Face Hub\n",
      "Found the latest cached dataset configuration 'default' at /home/zyh/.cache/huggingface/datasets/C-MTEB___m_marco_retrieval-qrels/default/0.0.0/bae08bb7bddbedb96c7e7db52018a55167b67f89 (last modified on Wed Oct  9 10:36:15 2024).\n",
      "WARNING:datasets.packaged_modules.cache.cache:Found the latest cached dataset configuration 'default' at /home/zyh/.cache/huggingface/datasets/C-MTEB___m_marco_retrieval-qrels/default/0.0.0/bae08bb7bddbedb96c7e7db52018a55167b67f89 (last modified on Wed Oct  9 10:36:15 2024).\n",
      "Using the latest cached version of the dataset since C-MTEB/T2Retrieval couldn't be found on the Hugging Face Hub\n",
      "WARNING:datasets.load:Using the latest cached version of the dataset since C-MTEB/T2Retrieval couldn't be found on the Hugging Face Hub\n",
      "Found the latest cached dataset configuration 'default' at /home/zyh/.cache/huggingface/datasets/C-MTEB___t2_retrieval/default/0.0.0/8731a845f1bf500a4f111cf1070785c793d10e64 (last modified on Wed Oct  9 10:42:58 2024).\n",
      "WARNING:datasets.packaged_modules.cache.cache:Found the latest cached dataset configuration 'default' at /home/zyh/.cache/huggingface/datasets/C-MTEB___t2_retrieval/default/0.0.0/8731a845f1bf500a4f111cf1070785c793d10e64 (last modified on Wed Oct  9 10:42:58 2024).\n"
     ]
    },
    {
     "name": "stdout",
     "output_type": "stream",
     "text": [
      "MMarcoRetrievalChunked: NumOfQueries: 6980, NumOfCorpus:106813, total: 113793\n"
     ]
    },
    {
     "name": "stderr",
     "output_type": "stream",
     "text": [
      "Using the latest cached version of the dataset since C-MTEB/T2Retrieval-qrels couldn't be found on the Hugging Face Hub\n",
      "WARNING:datasets.load:Using the latest cached version of the dataset since C-MTEB/T2Retrieval-qrels couldn't be found on the Hugging Face Hub\n",
      "Found the latest cached dataset configuration 'default' at /home/zyh/.cache/huggingface/datasets/C-MTEB___t2_retrieval-qrels/default/0.0.0/1c83b8d1544e529875e3f6930f3a1fcf749a8e97 (last modified on Wed Oct  9 10:43:05 2024).\n",
      "WARNING:datasets.packaged_modules.cache.cache:Found the latest cached dataset configuration 'default' at /home/zyh/.cache/huggingface/datasets/C-MTEB___t2_retrieval-qrels/default/0.0.0/1c83b8d1544e529875e3f6930f3a1fcf749a8e97 (last modified on Wed Oct  9 10:43:05 2024).\n",
      "Using the latest cached version of the dataset since C-MTEB/VideoRetrieval couldn't be found on the Hugging Face Hub\n",
      "WARNING:datasets.load:Using the latest cached version of the dataset since C-MTEB/VideoRetrieval couldn't be found on the Hugging Face Hub\n",
      "Found the latest cached dataset configuration 'default' at /home/zyh/.cache/huggingface/datasets/C-MTEB___video_retrieval/default/0.0.0/58c2597a5943a2ba48f4668c3b90d796283c5639 (last modified on Wed Oct  9 10:50:47 2024).\n",
      "WARNING:datasets.packaged_modules.cache.cache:Found the latest cached dataset configuration 'default' at /home/zyh/.cache/huggingface/datasets/C-MTEB___video_retrieval/default/0.0.0/58c2597a5943a2ba48f4668c3b90d796283c5639 (last modified on Wed Oct  9 10:50:47 2024).\n"
     ]
    },
    {
     "name": "stdout",
     "output_type": "stream",
     "text": [
      "T2RetrievalChunked: NumOfQueries: 22812, NumOfCorpus:118605, total: 141417\n"
     ]
    },
    {
     "name": "stderr",
     "output_type": "stream",
     "text": [
      "Using the latest cached version of the dataset since C-MTEB/VideoRetrieval-qrels couldn't be found on the Hugging Face Hub\n",
      "WARNING:datasets.load:Using the latest cached version of the dataset since C-MTEB/VideoRetrieval-qrels couldn't be found on the Hugging Face Hub\n",
      "Found the latest cached dataset configuration 'default' at /home/zyh/.cache/huggingface/datasets/C-MTEB___video_retrieval-qrels/default/0.0.0/faa71382b6a29cf1778d1f436b963e75cb5b927c (last modified on Wed Oct  9 10:50:53 2024).\n",
      "WARNING:datasets.packaged_modules.cache.cache:Found the latest cached dataset configuration 'default' at /home/zyh/.cache/huggingface/datasets/C-MTEB___video_retrieval-qrels/default/0.0.0/faa71382b6a29cf1778d1f436b963e75cb5b927c (last modified on Wed Oct  9 10:50:53 2024).\n",
      "WARNING:chunked_pooling.mteb_chunked_eval:Could not initialize retrieval_task from official mteb tasks. Trying cross_lang_retrieval\n",
      "Using the latest cached version of the dataset since maidalun1020/CrosslingualRetrievalQasEn2Zh couldn't be found on the Hugging Face Hub\n",
      "WARNING:datasets.load:Using the latest cached version of the dataset since maidalun1020/CrosslingualRetrievalQasEn2Zh couldn't be found on the Hugging Face Hub\n",
      "Found the latest cached dataset configuration 'default' at /home/zyh/.cache/huggingface/datasets/maidalun1020___crosslingual_retrieval_qas_en2_zh/default/0.0.0/40e9603cb70de463b5927796467354c6761cbfca (last modified on Wed Oct  9 15:21:27 2024).\n",
      "WARNING:datasets.packaged_modules.cache.cache:Found the latest cached dataset configuration 'default' at /home/zyh/.cache/huggingface/datasets/maidalun1020___crosslingual_retrieval_qas_en2_zh/default/0.0.0/40e9603cb70de463b5927796467354c6761cbfca (last modified on Wed Oct  9 15:21:27 2024).\n"
     ]
    },
    {
     "name": "stdout",
     "output_type": "stream",
     "text": [
      "VideoRetrievalChunked: NumOfQueries: 1000, NumOfCorpus:100930, total: 101930\n"
     ]
    },
    {
     "name": "stderr",
     "output_type": "stream",
     "text": [
      "Using the latest cached version of the dataset since maidalun1020/CrosslingualRetrievalQasEn2Zh-qrels couldn't be found on the Hugging Face Hub\n",
      "WARNING:datasets.load:Using the latest cached version of the dataset since maidalun1020/CrosslingualRetrievalQasEn2Zh-qrels couldn't be found on the Hugging Face Hub\n",
      "Found the latest cached dataset configuration 'default' at /home/zyh/.cache/huggingface/datasets/maidalun1020___crosslingual_retrieval_qas_en2_zh-qrels/default/0.0.0/30811ae53ff352f322509ccc72bb995a6efbb9f6 (last modified on Wed Oct  9 15:29:41 2024).\n",
      "WARNING:datasets.packaged_modules.cache.cache:Found the latest cached dataset configuration 'default' at /home/zyh/.cache/huggingface/datasets/maidalun1020___crosslingual_retrieval_qas_en2_zh-qrels/default/0.0.0/30811ae53ff352f322509ccc72bb995a6efbb9f6 (last modified on Wed Oct  9 15:29:41 2024).\n",
      "WARNING:chunked_pooling.mteb_chunked_eval:Could not initialize retrieval_task from official mteb tasks. Trying cross_lang_retrieval\n"
     ]
    },
    {
     "name": "stdout",
     "output_type": "stream",
     "text": [
      "CrosslingualRetrievalQasEn2ZhChunked: NumOfQueries: 20000, NumOfCorpus:79955, total: 99955\n"
     ]
    },
    {
     "name": "stderr",
     "output_type": "stream",
     "text": [
      "Using the latest cached version of the dataset since maidalun1020/CrosslingualRetrievalBooksEn2Zh couldn't be found on the Hugging Face Hub\n",
      "WARNING:datasets.load:Using the latest cached version of the dataset since maidalun1020/CrosslingualRetrievalBooksEn2Zh couldn't be found on the Hugging Face Hub\n",
      "Found the latest cached dataset configuration 'default' at /home/zyh/.cache/huggingface/datasets/maidalun1020___crosslingual_retrieval_books_en2_zh/default/0.0.0/a6635b6e7a2fde2b89934b3a6893966bc47dee91 (last modified on Wed Oct  9 15:56:24 2024).\n",
      "WARNING:datasets.packaged_modules.cache.cache:Found the latest cached dataset configuration 'default' at /home/zyh/.cache/huggingface/datasets/maidalun1020___crosslingual_retrieval_books_en2_zh/default/0.0.0/a6635b6e7a2fde2b89934b3a6893966bc47dee91 (last modified on Wed Oct  9 15:56:24 2024).\n",
      "Using the latest cached version of the dataset since maidalun1020/CrosslingualRetrievalBooksEn2Zh-qrels couldn't be found on the Hugging Face Hub\n",
      "WARNING:datasets.load:Using the latest cached version of the dataset since maidalun1020/CrosslingualRetrievalBooksEn2Zh-qrels couldn't be found on the Hugging Face Hub\n",
      "Found the latest cached dataset configuration 'default' at /home/zyh/.cache/huggingface/datasets/maidalun1020___crosslingual_retrieval_books_en2_zh-qrels/default/0.0.0/af060b6e545f7ddc317f2cb8f78ca5e9a8212e5c (last modified on Wed Oct  9 15:59:57 2024).\n",
      "WARNING:datasets.packaged_modules.cache.cache:Found the latest cached dataset configuration 'default' at /home/zyh/.cache/huggingface/datasets/maidalun1020___crosslingual_retrieval_books_en2_zh-qrels/default/0.0.0/af060b6e545f7ddc317f2cb8f78ca5e9a8212e5c (last modified on Wed Oct  9 15:59:57 2024).\n",
      "WARNING:chunked_pooling.mteb_chunked_eval:Could not initialize retrieval_task from official mteb tasks. Trying cross_lang_retrieval\n"
     ]
    },
    {
     "name": "stdout",
     "output_type": "stream",
     "text": [
      "CrosslingualRetrievalBooksEn2ZhChunked: NumOfQueries: 31172, NumOfCorpus:4614, total: 35786\n"
     ]
    },
    {
     "name": "stderr",
     "output_type": "stream",
     "text": [
      "Using the latest cached version of the dataset since maidalun1020/CrosslingualRetrievalBooksZh2En couldn't be found on the Hugging Face Hub\n",
      "WARNING:datasets.load:Using the latest cached version of the dataset since maidalun1020/CrosslingualRetrievalBooksZh2En couldn't be found on the Hugging Face Hub\n",
      "Found the latest cached dataset configuration 'default' at /home/zyh/.cache/huggingface/datasets/maidalun1020___crosslingual_retrieval_books_zh2_en/default/0.0.0/0bd118d1fabe3618a79cc21a8cf060b190df76ec (last modified on Wed Oct  9 15:58:07 2024).\n",
      "WARNING:datasets.packaged_modules.cache.cache:Found the latest cached dataset configuration 'default' at /home/zyh/.cache/huggingface/datasets/maidalun1020___crosslingual_retrieval_books_zh2_en/default/0.0.0/0bd118d1fabe3618a79cc21a8cf060b190df76ec (last modified on Wed Oct  9 15:58:07 2024).\n",
      "Using the latest cached version of the dataset since maidalun1020/CrosslingualRetrievalBooksZh2En-qrels couldn't be found on the Hugging Face Hub\n",
      "WARNING:datasets.load:Using the latest cached version of the dataset since maidalun1020/CrosslingualRetrievalBooksZh2En-qrels couldn't be found on the Hugging Face Hub\n",
      "Found the latest cached dataset configuration 'default' at /home/zyh/.cache/huggingface/datasets/maidalun1020___crosslingual_retrieval_books_zh2_en-qrels/default/0.0.0/855524ebb691026a5818f02056df77fcc078c333 (last modified on Wed Oct  9 16:01:24 2024).\n",
      "WARNING:datasets.packaged_modules.cache.cache:Found the latest cached dataset configuration 'default' at /home/zyh/.cache/huggingface/datasets/maidalun1020___crosslingual_retrieval_books_zh2_en-qrels/default/0.0.0/855524ebb691026a5818f02056df77fcc078c333 (last modified on Wed Oct  9 16:01:24 2024).\n",
      "WARNING:chunked_pooling.mteb_chunked_eval:Could not initialize retrieval_task from official mteb tasks. Trying cross_lang_retrieval\n"
     ]
    },
    {
     "name": "stdout",
     "output_type": "stream",
     "text": [
      "CrosslingualRetrievalBooksZh2EnChunked: NumOfQueries: 31172, NumOfCorpus:4614, total: 35786\n"
     ]
    },
    {
     "name": "stderr",
     "output_type": "stream",
     "text": [
      "Using the latest cached version of the dataset since maidalun1020/CrosslingualRetrievalFinanceEn2Zh couldn't be found on the Hugging Face Hub\n",
      "WARNING:datasets.load:Using the latest cached version of the dataset since maidalun1020/CrosslingualRetrievalFinanceEn2Zh couldn't be found on the Hugging Face Hub\n",
      "Found the latest cached dataset configuration 'default' at /home/zyh/.cache/huggingface/datasets/maidalun1020___crosslingual_retrieval_finance_en2_zh/default/0.0.0/e3fdb61b92df7b08c8408f5899b4d79535772ac8 (last modified on Wed Oct  9 15:56:36 2024).\n",
      "WARNING:datasets.packaged_modules.cache.cache:Found the latest cached dataset configuration 'default' at /home/zyh/.cache/huggingface/datasets/maidalun1020___crosslingual_retrieval_finance_en2_zh/default/0.0.0/e3fdb61b92df7b08c8408f5899b4d79535772ac8 (last modified on Wed Oct  9 15:56:36 2024).\n",
      "Using the latest cached version of the dataset since maidalun1020/CrosslingualRetrievalFinanceEn2Zh-qrels couldn't be found on the Hugging Face Hub\n",
      "WARNING:datasets.load:Using the latest cached version of the dataset since maidalun1020/CrosslingualRetrievalFinanceEn2Zh-qrels couldn't be found on the Hugging Face Hub\n",
      "Found the latest cached dataset configuration 'default' at /home/zyh/.cache/huggingface/datasets/maidalun1020___crosslingual_retrieval_finance_en2_zh-qrels/default/0.0.0/68a0bd8bc697b82f5ee59bdd4080996306075a3b (last modified on Wed Oct  9 16:00:29 2024).\n",
      "WARNING:datasets.packaged_modules.cache.cache:Found the latest cached dataset configuration 'default' at /home/zyh/.cache/huggingface/datasets/maidalun1020___crosslingual_retrieval_finance_en2_zh-qrels/default/0.0.0/68a0bd8bc697b82f5ee59bdd4080996306075a3b (last modified on Wed Oct  9 16:00:29 2024).\n",
      "WARNING:chunked_pooling.mteb_chunked_eval:Could not initialize retrieval_task from official mteb tasks. Trying cross_lang_retrieval\n"
     ]
    },
    {
     "name": "stdout",
     "output_type": "stream",
     "text": [
      "CrosslingualRetrievalFinanceEn2ZhChunked: NumOfQueries: 25045, NumOfCorpus:4668, total: 29713\n"
     ]
    },
    {
     "name": "stderr",
     "output_type": "stream",
     "text": [
      "Using the latest cached version of the dataset since maidalun1020/CrosslingualRetrievalFinanceZh2En couldn't be found on the Hugging Face Hub\n",
      "WARNING:datasets.load:Using the latest cached version of the dataset since maidalun1020/CrosslingualRetrievalFinanceZh2En couldn't be found on the Hugging Face Hub\n",
      "Found the latest cached dataset configuration 'default' at /home/zyh/.cache/huggingface/datasets/maidalun1020___crosslingual_retrieval_finance_zh2_en/default/0.0.0/1275094b1120bc158a7b7affc26293fc8cdc48b9 (last modified on Wed Oct  9 15:58:22 2024).\n",
      "WARNING:datasets.packaged_modules.cache.cache:Found the latest cached dataset configuration 'default' at /home/zyh/.cache/huggingface/datasets/maidalun1020___crosslingual_retrieval_finance_zh2_en/default/0.0.0/1275094b1120bc158a7b7affc26293fc8cdc48b9 (last modified on Wed Oct  9 15:58:22 2024).\n",
      "Using the latest cached version of the dataset since maidalun1020/CrosslingualRetrievalFinanceZh2En-qrels couldn't be found on the Hugging Face Hub\n",
      "WARNING:datasets.load:Using the latest cached version of the dataset since maidalun1020/CrosslingualRetrievalFinanceZh2En-qrels couldn't be found on the Hugging Face Hub\n",
      "Found the latest cached dataset configuration 'default' at /home/zyh/.cache/huggingface/datasets/maidalun1020___crosslingual_retrieval_finance_zh2_en-qrels/default/0.0.0/1c33dd7b1fa3bf20978045cd7d431b6d2dd702ed (last modified on Wed Oct  9 16:01:30 2024).\n",
      "WARNING:datasets.packaged_modules.cache.cache:Found the latest cached dataset configuration 'default' at /home/zyh/.cache/huggingface/datasets/maidalun1020___crosslingual_retrieval_finance_zh2_en-qrels/default/0.0.0/1c33dd7b1fa3bf20978045cd7d431b6d2dd702ed (last modified on Wed Oct  9 16:01:30 2024).\n",
      "WARNING:chunked_pooling.mteb_chunked_eval:Could not initialize retrieval_task from official mteb tasks. Trying cross_lang_retrieval\n"
     ]
    },
    {
     "name": "stdout",
     "output_type": "stream",
     "text": [
      "CrosslingualRetrievalFinanceZh2EnChunked: NumOfQueries: 25020, NumOfCorpus:4668, total: 29688\n"
     ]
    },
    {
     "name": "stderr",
     "output_type": "stream",
     "text": [
      "Using the latest cached version of the dataset since maidalun1020/CrosslingualRetrievalLawEn2Zh couldn't be found on the Hugging Face Hub\n",
      "WARNING:datasets.load:Using the latest cached version of the dataset since maidalun1020/CrosslingualRetrievalLawEn2Zh couldn't be found on the Hugging Face Hub\n",
      "Found the latest cached dataset configuration 'default' at /home/zyh/.cache/huggingface/datasets/maidalun1020___crosslingual_retrieval_law_en2_zh/default/0.0.0/662a7835baa0d01b75f35bdfcca2206b1f6fd4c5 (last modified on Wed Oct  9 15:55:08 2024).\n",
      "WARNING:datasets.packaged_modules.cache.cache:Found the latest cached dataset configuration 'default' at /home/zyh/.cache/huggingface/datasets/maidalun1020___crosslingual_retrieval_law_en2_zh/default/0.0.0/662a7835baa0d01b75f35bdfcca2206b1f6fd4c5 (last modified on Wed Oct  9 15:55:08 2024).\n",
      "Using the latest cached version of the dataset since maidalun1020/CrosslingualRetrievalLawEn2Zh-qrels couldn't be found on the Hugging Face Hub\n",
      "WARNING:datasets.load:Using the latest cached version of the dataset since maidalun1020/CrosslingualRetrievalLawEn2Zh-qrels couldn't be found on the Hugging Face Hub\n",
      "Found the latest cached dataset configuration 'default' at /home/zyh/.cache/huggingface/datasets/maidalun1020___crosslingual_retrieval_law_en2_zh-qrels/default/0.0.0/a4357a5466ac22f915661ff68290c219d8ca24ec (last modified on Wed Oct  9 15:36:20 2024).\n",
      "WARNING:datasets.packaged_modules.cache.cache:Found the latest cached dataset configuration 'default' at /home/zyh/.cache/huggingface/datasets/maidalun1020___crosslingual_retrieval_law_en2_zh-qrels/default/0.0.0/a4357a5466ac22f915661ff68290c219d8ca24ec (last modified on Wed Oct  9 15:36:20 2024).\n",
      "WARNING:chunked_pooling.mteb_chunked_eval:Could not initialize retrieval_task from official mteb tasks. Trying cross_lang_retrieval\n"
     ]
    },
    {
     "name": "stdout",
     "output_type": "stream",
     "text": [
      "CrosslingualRetrievalLawEn2ZhChunked: NumOfQueries: 26642, NumOfCorpus:4899, total: 31541\n"
     ]
    },
    {
     "name": "stderr",
     "output_type": "stream",
     "text": [
      "Using the latest cached version of the dataset since maidalun1020/CrosslingualRetrievalLawZh2En couldn't be found on the Hugging Face Hub\n",
      "WARNING:datasets.load:Using the latest cached version of the dataset since maidalun1020/CrosslingualRetrievalLawZh2En couldn't be found on the Hugging Face Hub\n",
      "Found the latest cached dataset configuration 'default' at /home/zyh/.cache/huggingface/datasets/maidalun1020___crosslingual_retrieval_law_zh2_en/default/0.0.0/15bc6fe6bac5f9994821e237e5099682f15ed6fe (last modified on Wed Oct  9 15:57:47 2024).\n",
      "WARNING:datasets.packaged_modules.cache.cache:Found the latest cached dataset configuration 'default' at /home/zyh/.cache/huggingface/datasets/maidalun1020___crosslingual_retrieval_law_zh2_en/default/0.0.0/15bc6fe6bac5f9994821e237e5099682f15ed6fe (last modified on Wed Oct  9 15:57:47 2024).\n",
      "Using the latest cached version of the dataset since maidalun1020/CrosslingualRetrievalLawZh2En-qrels couldn't be found on the Hugging Face Hub\n",
      "WARNING:datasets.load:Using the latest cached version of the dataset since maidalun1020/CrosslingualRetrievalLawZh2En-qrels couldn't be found on the Hugging Face Hub\n",
      "Found the latest cached dataset configuration 'default' at /home/zyh/.cache/huggingface/datasets/maidalun1020___crosslingual_retrieval_law_zh2_en-qrels/default/0.0.0/dee9d5954180d1a8e026899218606731220d0755 (last modified on Wed Oct  9 16:01:19 2024).\n",
      "WARNING:datasets.packaged_modules.cache.cache:Found the latest cached dataset configuration 'default' at /home/zyh/.cache/huggingface/datasets/maidalun1020___crosslingual_retrieval_law_zh2_en-qrels/default/0.0.0/dee9d5954180d1a8e026899218606731220d0755 (last modified on Wed Oct  9 16:01:19 2024).\n",
      "WARNING:chunked_pooling.mteb_chunked_eval:Could not initialize retrieval_task from official mteb tasks. Trying cross_lang_retrieval\n"
     ]
    },
    {
     "name": "stdout",
     "output_type": "stream",
     "text": [
      "CrosslingualRetrievalLawZh2EnChunked: NumOfQueries: 26653, NumOfCorpus:4897, total: 31550\n"
     ]
    },
    {
     "name": "stderr",
     "output_type": "stream",
     "text": [
      "Using the latest cached version of the dataset since maidalun1020/CrosslingualRetrievalPaperEn2Zh couldn't be found on the Hugging Face Hub\n",
      "WARNING:datasets.load:Using the latest cached version of the dataset since maidalun1020/CrosslingualRetrievalPaperEn2Zh couldn't be found on the Hugging Face Hub\n",
      "Found the latest cached dataset configuration 'default' at /home/zyh/.cache/huggingface/datasets/maidalun1020___crosslingual_retrieval_paper_en2_zh/default/0.0.0/7b51e14b8de01ad31bc504e6804a069400182acd (last modified on Wed Oct  9 15:56:47 2024).\n",
      "WARNING:datasets.packaged_modules.cache.cache:Found the latest cached dataset configuration 'default' at /home/zyh/.cache/huggingface/datasets/maidalun1020___crosslingual_retrieval_paper_en2_zh/default/0.0.0/7b51e14b8de01ad31bc504e6804a069400182acd (last modified on Wed Oct  9 15:56:47 2024).\n",
      "Using the latest cached version of the dataset since maidalun1020/CrosslingualRetrievalPaperEn2Zh-qrels couldn't be found on the Hugging Face Hub\n",
      "WARNING:datasets.load:Using the latest cached version of the dataset since maidalun1020/CrosslingualRetrievalPaperEn2Zh-qrels couldn't be found on the Hugging Face Hub\n",
      "Found the latest cached dataset configuration 'default' at /home/zyh/.cache/huggingface/datasets/maidalun1020___crosslingual_retrieval_paper_en2_zh-qrels/default/0.0.0/a4a00ba721bac75cab899f1777de9e1c57a4924b (last modified on Wed Oct  9 16:00:37 2024).\n",
      "WARNING:datasets.packaged_modules.cache.cache:Found the latest cached dataset configuration 'default' at /home/zyh/.cache/huggingface/datasets/maidalun1020___crosslingual_retrieval_paper_en2_zh-qrels/default/0.0.0/a4a00ba721bac75cab899f1777de9e1c57a4924b (last modified on Wed Oct  9 16:00:37 2024).\n",
      "WARNING:chunked_pooling.mteb_chunked_eval:Could not initialize retrieval_task from official mteb tasks. Trying cross_lang_retrieval\n"
     ]
    },
    {
     "name": "stdout",
     "output_type": "stream",
     "text": [
      "CrosslingualRetrievalPaperEn2ZhChunked: NumOfQueries: 22456, NumOfCorpus:5076, total: 27532\n"
     ]
    },
    {
     "name": "stderr",
     "output_type": "stream",
     "text": [
      "Using the latest cached version of the dataset since maidalun1020/CrosslingualRetrievalPaperZh2En couldn't be found on the Hugging Face Hub\n",
      "WARNING:datasets.load:Using the latest cached version of the dataset since maidalun1020/CrosslingualRetrievalPaperZh2En couldn't be found on the Hugging Face Hub\n",
      "Found the latest cached dataset configuration 'default' at /home/zyh/.cache/huggingface/datasets/maidalun1020___crosslingual_retrieval_paper_zh2_en/default/0.0.0/91772595b92a9eaa3de8da680fa2df1289d234aa (last modified on Wed Oct  9 15:58:38 2024).\n",
      "WARNING:datasets.packaged_modules.cache.cache:Found the latest cached dataset configuration 'default' at /home/zyh/.cache/huggingface/datasets/maidalun1020___crosslingual_retrieval_paper_zh2_en/default/0.0.0/91772595b92a9eaa3de8da680fa2df1289d234aa (last modified on Wed Oct  9 15:58:38 2024).\n",
      "Using the latest cached version of the dataset since maidalun1020/CrosslingualRetrievalPaperZh2En-qrels couldn't be found on the Hugging Face Hub\n",
      "WARNING:datasets.load:Using the latest cached version of the dataset since maidalun1020/CrosslingualRetrievalPaperZh2En-qrels couldn't be found on the Hugging Face Hub\n",
      "Found the latest cached dataset configuration 'default' at /home/zyh/.cache/huggingface/datasets/maidalun1020___crosslingual_retrieval_paper_zh2_en-qrels/default/0.0.0/080ddcb391a28646cc3db6343baa292bef1c869d (last modified on Wed Oct  9 16:01:35 2024).\n",
      "WARNING:datasets.packaged_modules.cache.cache:Found the latest cached dataset configuration 'default' at /home/zyh/.cache/huggingface/datasets/maidalun1020___crosslingual_retrieval_paper_zh2_en-qrels/default/0.0.0/080ddcb391a28646cc3db6343baa292bef1c869d (last modified on Wed Oct  9 16:01:35 2024).\n",
      "WARNING:chunked_pooling.mteb_chunked_eval:Could not initialize retrieval_task from official mteb tasks. Trying cross_lang_retrieval\n"
     ]
    },
    {
     "name": "stdout",
     "output_type": "stream",
     "text": [
      "CrosslingualRetrievalPaperZh2EnChunked: NumOfQueries: 22515, NumOfCorpus:5101, total: 27616\n"
     ]
    },
    {
     "name": "stderr",
     "output_type": "stream",
     "text": [
      "Using the latest cached version of the dataset since maidalun1020/CrosslingualRetrievalWikiEn2Zh couldn't be found on the Hugging Face Hub\n",
      "WARNING:datasets.load:Using the latest cached version of the dataset since maidalun1020/CrosslingualRetrievalWikiEn2Zh couldn't be found on the Hugging Face Hub\n",
      "Found the latest cached dataset configuration 'default' at /home/zyh/.cache/huggingface/datasets/maidalun1020___crosslingual_retrieval_wiki_en2_zh/default/0.0.0/e005f084db042b883a672a62f111c15c2e570dee (last modified on Wed Oct  9 15:57:00 2024).\n",
      "WARNING:datasets.packaged_modules.cache.cache:Found the latest cached dataset configuration 'default' at /home/zyh/.cache/huggingface/datasets/maidalun1020___crosslingual_retrieval_wiki_en2_zh/default/0.0.0/e005f084db042b883a672a62f111c15c2e570dee (last modified on Wed Oct  9 15:57:00 2024).\n",
      "Using the latest cached version of the dataset since maidalun1020/CrosslingualRetrievalWikiEn2Zh-qrels couldn't be found on the Hugging Face Hub\n",
      "WARNING:datasets.load:Using the latest cached version of the dataset since maidalun1020/CrosslingualRetrievalWikiEn2Zh-qrels couldn't be found on the Hugging Face Hub\n",
      "Found the latest cached dataset configuration 'default' at /home/zyh/.cache/huggingface/datasets/maidalun1020___crosslingual_retrieval_wiki_en2_zh-qrels/default/0.0.0/48ffbd2c616e176d786e6a1b42c3d6af79d4964b (last modified on Wed Oct  9 16:01:12 2024).\n",
      "WARNING:datasets.packaged_modules.cache.cache:Found the latest cached dataset configuration 'default' at /home/zyh/.cache/huggingface/datasets/maidalun1020___crosslingual_retrieval_wiki_en2_zh-qrels/default/0.0.0/48ffbd2c616e176d786e6a1b42c3d6af79d4964b (last modified on Wed Oct  9 16:01:12 2024).\n",
      "WARNING:chunked_pooling.mteb_chunked_eval:Could not initialize retrieval_task from official mteb tasks. Trying cross_lang_retrieval\n"
     ]
    },
    {
     "name": "stdout",
     "output_type": "stream",
     "text": [
      "CrosslingualRetrievalWikiEn2ZhChunked: NumOfQueries: 34060, NumOfCorpus:6506, total: 40566\n"
     ]
    },
    {
     "name": "stderr",
     "output_type": "stream",
     "text": [
      "Using the latest cached version of the dataset since maidalun1020/CrosslingualRetrievalWikiZh2En couldn't be found on the Hugging Face Hub\n",
      "WARNING:datasets.load:Using the latest cached version of the dataset since maidalun1020/CrosslingualRetrievalWikiZh2En couldn't be found on the Hugging Face Hub\n",
      "Found the latest cached dataset configuration 'default' at /home/zyh/.cache/huggingface/datasets/maidalun1020___crosslingual_retrieval_wiki_zh2_en/default/0.0.0/8d0fceb8bda8345eea22c42f4b57b2ceebd51010 (last modified on Wed Oct  9 15:59:42 2024).\n",
      "WARNING:datasets.packaged_modules.cache.cache:Found the latest cached dataset configuration 'default' at /home/zyh/.cache/huggingface/datasets/maidalun1020___crosslingual_retrieval_wiki_zh2_en/default/0.0.0/8d0fceb8bda8345eea22c42f4b57b2ceebd51010 (last modified on Wed Oct  9 15:59:42 2024).\n",
      "Using the latest cached version of the dataset since maidalun1020/CrosslingualRetrievalWikiZh2En-qrels couldn't be found on the Hugging Face Hub\n",
      "WARNING:datasets.load:Using the latest cached version of the dataset since maidalun1020/CrosslingualRetrievalWikiZh2En-qrels couldn't be found on the Hugging Face Hub\n",
      "Found the latest cached dataset configuration 'default' at /home/zyh/.cache/huggingface/datasets/maidalun1020___crosslingual_retrieval_wiki_zh2_en-qrels/default/0.0.0/97e68a0530c3bb26403fe76837e5df131bad96f1 (last modified on Wed Oct  9 16:01:40 2024).\n",
      "WARNING:datasets.packaged_modules.cache.cache:Found the latest cached dataset configuration 'default' at /home/zyh/.cache/huggingface/datasets/maidalun1020___crosslingual_retrieval_wiki_zh2_en-qrels/default/0.0.0/97e68a0530c3bb26403fe76837e5df131bad96f1 (last modified on Wed Oct  9 16:01:40 2024).\n"
     ]
    },
    {
     "name": "stdout",
     "output_type": "stream",
     "text": [
      "CrosslingualRetrievalWikiZh2EnChunked: NumOfQueries: 34062, NumOfCorpus:6504, total: 40566\n"
     ]
    }
   ],
   "source": [
    "import json\n",
    "import os\n",
    "os.environ[\"CUDA_VISIBLE_DEVICES\"]=\"\"\n",
    "\n",
    "from chunked_pooling.chunked_eval_tasks import *\n",
    "from chunked_pooling.wrappers import load_model\n",
    "from transformers import AutoModel, AutoTokenizer\n",
    "\n",
    "task_name_to_cls = get_eval_tasks()\n",
    "model_name = \"jinaai/jina-embeddings-v2-small-en\"\n",
    "model, has_instructions = load_model(model_name)\n",
    "tokenizer = AutoTokenizer.from_pretrained(model_name, trust_remote_code=True)\n",
    "model.eval()\n",
    "\n",
    "sample_count = dict()\n",
    "for task_name, task_cls in task_name_to_cls.items():\n",
    "    chunking_args = {\n",
    "        \"chunk_size\": 1024,\n",
    "        \"n_sentences\": 5,\n",
    "        \"chunking_strategy\": \"fixed_text\",\n",
    "        \"model_has_instructions\": has_instructions,\n",
    "        \"embedding_model_name\": model_name,\n",
    "    }\n",
    "\n",
    "    task = task_cls(\n",
    "        tokenizer=tokenizer,\n",
    "        prune_size=None,\n",
    "        truncate_max_length=False,\n",
    "        **chunking_args,\n",
    "    )\n",
    "\n",
    "    task.load_data()\n",
    "    if \"test\" in task.queries:\n",
    "        queries = task.queries[\"test\"]\n",
    "        corpus = task.corpus[\"test\"]\n",
    "    elif \"dev\" in task.queries:\n",
    "        queries = task.queries[\"dev\"]\n",
    "        corpus = task.corpus[\"dev\"]\n",
    "    else:\n",
    "        continue\n",
    "    \n",
    "    num_queries = len(queries)\n",
    "    num_corpus = len(corpus)\n",
    "    sample_count[task_name] = {\"queries\": num_queries, \"corpus\": num_corpus}\n",
    "    print(f\"{task_name}: NumOfQueries: {num_queries}, NumOfCorpus:{num_corpus}, total: {num_queries+num_corpus}\")\n",
    "\n",
    "    with open(\"sample_count.json\", \"w\") as f:\n",
    "        json.dump(sample_count, f)"
   ]
  },
  {
   "cell_type": "code",
   "execution_count": 4,
   "metadata": {},
   "outputs": [],
   "source": [
    "lines = []\n",
    "with open(\"master.log\", \"r\") as f:\n",
    "    lines = f.readlines()\n",
    "\n",
    "dedup = set()\n",
    "for line in lines:\n",
    "    if line in dedup:\n",
    "        print(\"Duplicate: \" + line)\n",
    "    dedup.add(line.strip())"
   ]
  },
  {
   "cell_type": "code",
   "execution_count": null,
   "metadata": {},
   "outputs": [],
   "source": []
  }
 ],
 "metadata": {
  "kernelspec": {
   "display_name": "chunking",
   "language": "python",
   "name": "python3"
  },
  "language_info": {
   "codemirror_mode": {
    "name": "ipython",
    "version": 3
   },
   "file_extension": ".py",
   "mimetype": "text/x-python",
   "name": "python",
   "nbconvert_exporter": "python",
   "pygments_lexer": "ipython3",
   "version": "3.8.19"
  }
 },
 "nbformat": 4,
 "nbformat_minor": 2
}
