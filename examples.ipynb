{
 "cells": [
  {
   "cell_type": "code",
   "execution_count": 1,
   "id": "d02a920f-cde0-4035-9834-49b087aab5cc",
   "metadata": {},
   "outputs": [
    {
     "name": "stdout",
     "output_type": "stream",
     "text": [
      "Requirement already satisfied: jupyterlab==4.2.4 in ./venv/lib/python3.10/site-packages (from -r requirements.txt (line 1)) (4.2.4)\n",
      "Requirement already satisfied: transformers==4.43.4 in ./venv/lib/python3.10/site-packages (from -r requirements.txt (line 2)) (4.43.4)\n",
      "Requirement already satisfied: torch==2.4.0 in ./venv/lib/python3.10/site-packages (from -r requirements.txt (line 3)) (2.4.0)\n",
      "Requirement already satisfied: jupyter-lsp>=2.0.0 in ./venv/lib/python3.10/site-packages (from jupyterlab==4.2.4->-r requirements.txt (line 1)) (2.2.5)\n",
      "Requirement already satisfied: ipykernel>=6.5.0 in ./venv/lib/python3.10/site-packages (from jupyterlab==4.2.4->-r requirements.txt (line 1)) (6.29.5)\n",
      "Requirement already satisfied: jupyter-core in ./venv/lib/python3.10/site-packages (from jupyterlab==4.2.4->-r requirements.txt (line 1)) (5.7.2)\n",
      "Requirement already satisfied: setuptools>=40.1.0 in ./venv/lib/python3.10/site-packages (from jupyterlab==4.2.4->-r requirements.txt (line 1)) (59.6.0)\n",
      "Requirement already satisfied: jupyterlab-server<3,>=2.27.1 in ./venv/lib/python3.10/site-packages (from jupyterlab==4.2.4->-r requirements.txt (line 1)) (2.27.3)\n",
      "Requirement already satisfied: traitlets in ./venv/lib/python3.10/site-packages (from jupyterlab==4.2.4->-r requirements.txt (line 1)) (5.14.3)\n",
      "Requirement already satisfied: packaging in ./venv/lib/python3.10/site-packages (from jupyterlab==4.2.4->-r requirements.txt (line 1)) (24.1)\n",
      "Requirement already satisfied: async-lru>=1.0.0 in ./venv/lib/python3.10/site-packages (from jupyterlab==4.2.4->-r requirements.txt (line 1)) (2.0.4)\n",
      "Requirement already satisfied: tornado>=6.2.0 in ./venv/lib/python3.10/site-packages (from jupyterlab==4.2.4->-r requirements.txt (line 1)) (6.4.1)\n",
      "Requirement already satisfied: jupyter-server<3,>=2.4.0 in ./venv/lib/python3.10/site-packages (from jupyterlab==4.2.4->-r requirements.txt (line 1)) (2.14.2)\n",
      "Requirement already satisfied: tomli>=1.2.2 in ./venv/lib/python3.10/site-packages (from jupyterlab==4.2.4->-r requirements.txt (line 1)) (2.0.1)\n",
      "Requirement already satisfied: notebook-shim>=0.2 in ./venv/lib/python3.10/site-packages (from jupyterlab==4.2.4->-r requirements.txt (line 1)) (0.2.4)\n",
      "Requirement already satisfied: jinja2>=3.0.3 in ./venv/lib/python3.10/site-packages (from jupyterlab==4.2.4->-r requirements.txt (line 1)) (3.1.4)\n",
      "Requirement already satisfied: httpx>=0.25.0 in ./venv/lib/python3.10/site-packages (from jupyterlab==4.2.4->-r requirements.txt (line 1)) (0.27.0)\n",
      "Requirement already satisfied: filelock in ./venv/lib/python3.10/site-packages (from transformers==4.43.4->-r requirements.txt (line 2)) (3.15.4)\n",
      "Requirement already satisfied: pyyaml>=5.1 in ./venv/lib/python3.10/site-packages (from transformers==4.43.4->-r requirements.txt (line 2)) (6.0.1)\n",
      "Requirement already satisfied: tokenizers<0.20,>=0.19 in ./venv/lib/python3.10/site-packages (from transformers==4.43.4->-r requirements.txt (line 2)) (0.19.1)\n",
      "Requirement already satisfied: numpy>=1.17 in ./venv/lib/python3.10/site-packages (from transformers==4.43.4->-r requirements.txt (line 2)) (2.0.1)\n",
      "Requirement already satisfied: tqdm>=4.27 in ./venv/lib/python3.10/site-packages (from transformers==4.43.4->-r requirements.txt (line 2)) (4.66.5)\n",
      "Requirement already satisfied: regex!=2019.12.17 in ./venv/lib/python3.10/site-packages (from transformers==4.43.4->-r requirements.txt (line 2)) (2024.7.24)\n",
      "Requirement already satisfied: huggingface-hub<1.0,>=0.23.2 in ./venv/lib/python3.10/site-packages (from transformers==4.43.4->-r requirements.txt (line 2)) (0.24.5)\n",
      "Requirement already satisfied: requests in ./venv/lib/python3.10/site-packages (from transformers==4.43.4->-r requirements.txt (line 2)) (2.32.3)\n",
      "Requirement already satisfied: safetensors>=0.4.1 in ./venv/lib/python3.10/site-packages (from transformers==4.43.4->-r requirements.txt (line 2)) (0.4.4)\n",
      "Requirement already satisfied: nvidia-nvtx-cu12==12.1.105 in ./venv/lib/python3.10/site-packages (from torch==2.4.0->-r requirements.txt (line 3)) (12.1.105)\n",
      "Requirement already satisfied: nvidia-cusparse-cu12==12.1.0.106 in ./venv/lib/python3.10/site-packages (from torch==2.4.0->-r requirements.txt (line 3)) (12.1.0.106)\n",
      "Requirement already satisfied: nvidia-cudnn-cu12==9.1.0.70 in ./venv/lib/python3.10/site-packages (from torch==2.4.0->-r requirements.txt (line 3)) (9.1.0.70)\n",
      "Requirement already satisfied: typing-extensions>=4.8.0 in ./venv/lib/python3.10/site-packages (from torch==2.4.0->-r requirements.txt (line 3)) (4.12.2)\n",
      "Requirement already satisfied: fsspec in ./venv/lib/python3.10/site-packages (from torch==2.4.0->-r requirements.txt (line 3)) (2024.6.1)\n",
      "Requirement already satisfied: nvidia-cublas-cu12==12.1.3.1 in ./venv/lib/python3.10/site-packages (from torch==2.4.0->-r requirements.txt (line 3)) (12.1.3.1)\n",
      "Requirement already satisfied: sympy in ./venv/lib/python3.10/site-packages (from torch==2.4.0->-r requirements.txt (line 3)) (1.13.1)\n",
      "Requirement already satisfied: nvidia-cuda-nvrtc-cu12==12.1.105 in ./venv/lib/python3.10/site-packages (from torch==2.4.0->-r requirements.txt (line 3)) (12.1.105)\n",
      "Requirement already satisfied: triton==3.0.0 in ./venv/lib/python3.10/site-packages (from torch==2.4.0->-r requirements.txt (line 3)) (3.0.0)\n",
      "Requirement already satisfied: nvidia-cusolver-cu12==11.4.5.107 in ./venv/lib/python3.10/site-packages (from torch==2.4.0->-r requirements.txt (line 3)) (11.4.5.107)\n",
      "Requirement already satisfied: nvidia-cuda-cupti-cu12==12.1.105 in ./venv/lib/python3.10/site-packages (from torch==2.4.0->-r requirements.txt (line 3)) (12.1.105)\n",
      "Requirement already satisfied: nvidia-curand-cu12==10.3.2.106 in ./venv/lib/python3.10/site-packages (from torch==2.4.0->-r requirements.txt (line 3)) (10.3.2.106)\n",
      "Requirement already satisfied: nvidia-nccl-cu12==2.20.5 in ./venv/lib/python3.10/site-packages (from torch==2.4.0->-r requirements.txt (line 3)) (2.20.5)\n",
      "Requirement already satisfied: nvidia-cufft-cu12==11.0.2.54 in ./venv/lib/python3.10/site-packages (from torch==2.4.0->-r requirements.txt (line 3)) (11.0.2.54)\n",
      "Requirement already satisfied: networkx in ./venv/lib/python3.10/site-packages (from torch==2.4.0->-r requirements.txt (line 3)) (3.3)\n",
      "Requirement already satisfied: nvidia-cuda-runtime-cu12==12.1.105 in ./venv/lib/python3.10/site-packages (from torch==2.4.0->-r requirements.txt (line 3)) (12.1.105)\n",
      "Requirement already satisfied: nvidia-nvjitlink-cu12 in ./venv/lib/python3.10/site-packages (from nvidia-cusolver-cu12==11.4.5.107->torch==2.4.0->-r requirements.txt (line 3)) (12.6.20)\n",
      "Requirement already satisfied: idna in ./venv/lib/python3.10/site-packages (from httpx>=0.25.0->jupyterlab==4.2.4->-r requirements.txt (line 1)) (3.7)\n",
      "Requirement already satisfied: sniffio in ./venv/lib/python3.10/site-packages (from httpx>=0.25.0->jupyterlab==4.2.4->-r requirements.txt (line 1)) (1.3.1)\n",
      "Requirement already satisfied: httpcore==1.* in ./venv/lib/python3.10/site-packages (from httpx>=0.25.0->jupyterlab==4.2.4->-r requirements.txt (line 1)) (1.0.5)\n",
      "Requirement already satisfied: certifi in ./venv/lib/python3.10/site-packages (from httpx>=0.25.0->jupyterlab==4.2.4->-r requirements.txt (line 1)) (2024.7.4)\n",
      "Requirement already satisfied: anyio in ./venv/lib/python3.10/site-packages (from httpx>=0.25.0->jupyterlab==4.2.4->-r requirements.txt (line 1)) (4.4.0)\n",
      "Requirement already satisfied: h11<0.15,>=0.13 in ./venv/lib/python3.10/site-packages (from httpcore==1.*->httpx>=0.25.0->jupyterlab==4.2.4->-r requirements.txt (line 1)) (0.14.0)\n",
      "Requirement already satisfied: matplotlib-inline>=0.1 in ./venv/lib/python3.10/site-packages (from ipykernel>=6.5.0->jupyterlab==4.2.4->-r requirements.txt (line 1)) (0.1.7)\n",
      "Requirement already satisfied: psutil in ./venv/lib/python3.10/site-packages (from ipykernel>=6.5.0->jupyterlab==4.2.4->-r requirements.txt (line 1)) (6.0.0)\n",
      "Requirement already satisfied: ipython>=7.23.1 in ./venv/lib/python3.10/site-packages (from ipykernel>=6.5.0->jupyterlab==4.2.4->-r requirements.txt (line 1)) (8.26.0)\n",
      "Requirement already satisfied: pyzmq>=24 in ./venv/lib/python3.10/site-packages (from ipykernel>=6.5.0->jupyterlab==4.2.4->-r requirements.txt (line 1)) (26.1.0)\n",
      "Requirement already satisfied: nest-asyncio in ./venv/lib/python3.10/site-packages (from ipykernel>=6.5.0->jupyterlab==4.2.4->-r requirements.txt (line 1)) (1.6.0)\n",
      "Requirement already satisfied: debugpy>=1.6.5 in ./venv/lib/python3.10/site-packages (from ipykernel>=6.5.0->jupyterlab==4.2.4->-r requirements.txt (line 1)) (1.8.5)\n",
      "Requirement already satisfied: jupyter-client>=6.1.12 in ./venv/lib/python3.10/site-packages (from ipykernel>=6.5.0->jupyterlab==4.2.4->-r requirements.txt (line 1)) (8.6.2)\n",
      "Requirement already satisfied: comm>=0.1.1 in ./venv/lib/python3.10/site-packages (from ipykernel>=6.5.0->jupyterlab==4.2.4->-r requirements.txt (line 1)) (0.2.2)\n",
      "Requirement already satisfied: MarkupSafe>=2.0 in ./venv/lib/python3.10/site-packages (from jinja2>=3.0.3->jupyterlab==4.2.4->-r requirements.txt (line 1)) (2.1.5)\n",
      "Requirement already satisfied: platformdirs>=2.5 in ./venv/lib/python3.10/site-packages (from jupyter-core->jupyterlab==4.2.4->-r requirements.txt (line 1)) (4.2.2)\n",
      "Requirement already satisfied: jupyter-server-terminals>=0.4.4 in ./venv/lib/python3.10/site-packages (from jupyter-server<3,>=2.4.0->jupyterlab==4.2.4->-r requirements.txt (line 1)) (0.5.3)\n",
      "Requirement already satisfied: jupyter-events>=0.9.0 in ./venv/lib/python3.10/site-packages (from jupyter-server<3,>=2.4.0->jupyterlab==4.2.4->-r requirements.txt (line 1)) (0.10.0)\n",
      "Requirement already satisfied: nbconvert>=6.4.4 in ./venv/lib/python3.10/site-packages (from jupyter-server<3,>=2.4.0->jupyterlab==4.2.4->-r requirements.txt (line 1)) (7.16.4)\n",
      "Requirement already satisfied: websocket-client>=1.7 in ./venv/lib/python3.10/site-packages (from jupyter-server<3,>=2.4.0->jupyterlab==4.2.4->-r requirements.txt (line 1)) (1.8.0)\n",
      "Requirement already satisfied: nbformat>=5.3.0 in ./venv/lib/python3.10/site-packages (from jupyter-server<3,>=2.4.0->jupyterlab==4.2.4->-r requirements.txt (line 1)) (5.10.4)\n",
      "Requirement already satisfied: terminado>=0.8.3 in ./venv/lib/python3.10/site-packages (from jupyter-server<3,>=2.4.0->jupyterlab==4.2.4->-r requirements.txt (line 1)) (0.18.1)\n",
      "Requirement already satisfied: send2trash>=1.8.2 in ./venv/lib/python3.10/site-packages (from jupyter-server<3,>=2.4.0->jupyterlab==4.2.4->-r requirements.txt (line 1)) (1.8.3)\n",
      "Requirement already satisfied: overrides>=5.0 in ./venv/lib/python3.10/site-packages (from jupyter-server<3,>=2.4.0->jupyterlab==4.2.4->-r requirements.txt (line 1)) (7.7.0)\n",
      "Requirement already satisfied: argon2-cffi>=21.1 in ./venv/lib/python3.10/site-packages (from jupyter-server<3,>=2.4.0->jupyterlab==4.2.4->-r requirements.txt (line 1)) (23.1.0)\n",
      "Requirement already satisfied: prometheus-client>=0.9 in ./venv/lib/python3.10/site-packages (from jupyter-server<3,>=2.4.0->jupyterlab==4.2.4->-r requirements.txt (line 1)) (0.20.0)\n",
      "Requirement already satisfied: json5>=0.9.0 in ./venv/lib/python3.10/site-packages (from jupyterlab-server<3,>=2.27.1->jupyterlab==4.2.4->-r requirements.txt (line 1)) (0.9.25)\n",
      "Requirement already satisfied: babel>=2.10 in ./venv/lib/python3.10/site-packages (from jupyterlab-server<3,>=2.27.1->jupyterlab==4.2.4->-r requirements.txt (line 1)) (2.15.0)\n",
      "Requirement already satisfied: jsonschema>=4.18.0 in ./venv/lib/python3.10/site-packages (from jupyterlab-server<3,>=2.27.1->jupyterlab==4.2.4->-r requirements.txt (line 1)) (4.23.0)\n",
      "Requirement already satisfied: charset-normalizer<4,>=2 in ./venv/lib/python3.10/site-packages (from requests->transformers==4.43.4->-r requirements.txt (line 2)) (3.3.2)\n",
      "Requirement already satisfied: urllib3<3,>=1.21.1 in ./venv/lib/python3.10/site-packages (from requests->transformers==4.43.4->-r requirements.txt (line 2)) (2.2.2)\n",
      "Requirement already satisfied: mpmath<1.4,>=1.1.0 in ./venv/lib/python3.10/site-packages (from sympy->torch==2.4.0->-r requirements.txt (line 3)) (1.3.0)\n",
      "Requirement already satisfied: exceptiongroup>=1.0.2 in ./venv/lib/python3.10/site-packages (from anyio->httpx>=0.25.0->jupyterlab==4.2.4->-r requirements.txt (line 1)) (1.2.2)\n",
      "Requirement already satisfied: argon2-cffi-bindings in ./venv/lib/python3.10/site-packages (from argon2-cffi>=21.1->jupyter-server<3,>=2.4.0->jupyterlab==4.2.4->-r requirements.txt (line 1)) (21.2.0)\n",
      "Requirement already satisfied: decorator in ./venv/lib/python3.10/site-packages (from ipython>=7.23.1->ipykernel>=6.5.0->jupyterlab==4.2.4->-r requirements.txt (line 1)) (5.1.1)\n",
      "Requirement already satisfied: prompt-toolkit<3.1.0,>=3.0.41 in ./venv/lib/python3.10/site-packages (from ipython>=7.23.1->ipykernel>=6.5.0->jupyterlab==4.2.4->-r requirements.txt (line 1)) (3.0.47)\n",
      "Requirement already satisfied: stack-data in ./venv/lib/python3.10/site-packages (from ipython>=7.23.1->ipykernel>=6.5.0->jupyterlab==4.2.4->-r requirements.txt (line 1)) (0.6.3)\n",
      "Requirement already satisfied: jedi>=0.16 in ./venv/lib/python3.10/site-packages (from ipython>=7.23.1->ipykernel>=6.5.0->jupyterlab==4.2.4->-r requirements.txt (line 1)) (0.19.1)\n",
      "Requirement already satisfied: pexpect>4.3 in ./venv/lib/python3.10/site-packages (from ipython>=7.23.1->ipykernel>=6.5.0->jupyterlab==4.2.4->-r requirements.txt (line 1)) (4.9.0)\n",
      "Requirement already satisfied: pygments>=2.4.0 in ./venv/lib/python3.10/site-packages (from ipython>=7.23.1->ipykernel>=6.5.0->jupyterlab==4.2.4->-r requirements.txt (line 1)) (2.18.0)\n",
      "Requirement already satisfied: referencing>=0.28.4 in ./venv/lib/python3.10/site-packages (from jsonschema>=4.18.0->jupyterlab-server<3,>=2.27.1->jupyterlab==4.2.4->-r requirements.txt (line 1)) (0.35.1)\n",
      "Requirement already satisfied: jsonschema-specifications>=2023.03.6 in ./venv/lib/python3.10/site-packages (from jsonschema>=4.18.0->jupyterlab-server<3,>=2.27.1->jupyterlab==4.2.4->-r requirements.txt (line 1)) (2023.12.1)\n",
      "Requirement already satisfied: rpds-py>=0.7.1 in ./venv/lib/python3.10/site-packages (from jsonschema>=4.18.0->jupyterlab-server<3,>=2.27.1->jupyterlab==4.2.4->-r requirements.txt (line 1)) (0.19.1)\n",
      "Requirement already satisfied: attrs>=22.2.0 in ./venv/lib/python3.10/site-packages (from jsonschema>=4.18.0->jupyterlab-server<3,>=2.27.1->jupyterlab==4.2.4->-r requirements.txt (line 1)) (24.1.0)\n",
      "Requirement already satisfied: python-dateutil>=2.8.2 in ./venv/lib/python3.10/site-packages (from jupyter-client>=6.1.12->ipykernel>=6.5.0->jupyterlab==4.2.4->-r requirements.txt (line 1)) (2.9.0.post0)\n",
      "Requirement already satisfied: rfc3339-validator in ./venv/lib/python3.10/site-packages (from jupyter-events>=0.9.0->jupyter-server<3,>=2.4.0->jupyterlab==4.2.4->-r requirements.txt (line 1)) (0.1.4)\n",
      "Requirement already satisfied: rfc3986-validator>=0.1.1 in ./venv/lib/python3.10/site-packages (from jupyter-events>=0.9.0->jupyter-server<3,>=2.4.0->jupyterlab==4.2.4->-r requirements.txt (line 1)) (0.1.1)\n",
      "Requirement already satisfied: python-json-logger>=2.0.4 in ./venv/lib/python3.10/site-packages (from jupyter-events>=0.9.0->jupyter-server<3,>=2.4.0->jupyterlab==4.2.4->-r requirements.txt (line 1)) (2.0.7)\n",
      "Requirement already satisfied: bleach!=5.0.0 in ./venv/lib/python3.10/site-packages (from nbconvert>=6.4.4->jupyter-server<3,>=2.4.0->jupyterlab==4.2.4->-r requirements.txt (line 1)) (6.1.0)\n",
      "Requirement already satisfied: jupyterlab-pygments in ./venv/lib/python3.10/site-packages (from nbconvert>=6.4.4->jupyter-server<3,>=2.4.0->jupyterlab==4.2.4->-r requirements.txt (line 1)) (0.3.0)\n",
      "Requirement already satisfied: nbclient>=0.5.0 in ./venv/lib/python3.10/site-packages (from nbconvert>=6.4.4->jupyter-server<3,>=2.4.0->jupyterlab==4.2.4->-r requirements.txt (line 1)) (0.10.0)\n",
      "Requirement already satisfied: beautifulsoup4 in ./venv/lib/python3.10/site-packages (from nbconvert>=6.4.4->jupyter-server<3,>=2.4.0->jupyterlab==4.2.4->-r requirements.txt (line 1)) (4.12.3)\n",
      "Requirement already satisfied: defusedxml in ./venv/lib/python3.10/site-packages (from nbconvert>=6.4.4->jupyter-server<3,>=2.4.0->jupyterlab==4.2.4->-r requirements.txt (line 1)) (0.7.1)\n",
      "Requirement already satisfied: tinycss2 in ./venv/lib/python3.10/site-packages (from nbconvert>=6.4.4->jupyter-server<3,>=2.4.0->jupyterlab==4.2.4->-r requirements.txt (line 1)) (1.3.0)\n",
      "Requirement already satisfied: mistune<4,>=2.0.3 in ./venv/lib/python3.10/site-packages (from nbconvert>=6.4.4->jupyter-server<3,>=2.4.0->jupyterlab==4.2.4->-r requirements.txt (line 1)) (3.0.2)\n",
      "Requirement already satisfied: pandocfilters>=1.4.1 in ./venv/lib/python3.10/site-packages (from nbconvert>=6.4.4->jupyter-server<3,>=2.4.0->jupyterlab==4.2.4->-r requirements.txt (line 1)) (1.5.1)\n",
      "Requirement already satisfied: fastjsonschema>=2.15 in ./venv/lib/python3.10/site-packages (from nbformat>=5.3.0->jupyter-server<3,>=2.4.0->jupyterlab==4.2.4->-r requirements.txt (line 1)) (2.20.0)\n",
      "Requirement already satisfied: ptyprocess in ./venv/lib/python3.10/site-packages (from terminado>=0.8.3->jupyter-server<3,>=2.4.0->jupyterlab==4.2.4->-r requirements.txt (line 1)) (0.7.0)\n",
      "Requirement already satisfied: webencodings in ./venv/lib/python3.10/site-packages (from bleach!=5.0.0->nbconvert>=6.4.4->jupyter-server<3,>=2.4.0->jupyterlab==4.2.4->-r requirements.txt (line 1)) (0.5.1)\n",
      "Requirement already satisfied: six>=1.9.0 in ./venv/lib/python3.10/site-packages (from bleach!=5.0.0->nbconvert>=6.4.4->jupyter-server<3,>=2.4.0->jupyterlab==4.2.4->-r requirements.txt (line 1)) (1.16.0)\n",
      "Requirement already satisfied: parso<0.9.0,>=0.8.3 in ./venv/lib/python3.10/site-packages (from jedi>=0.16->ipython>=7.23.1->ipykernel>=6.5.0->jupyterlab==4.2.4->-r requirements.txt (line 1)) (0.8.4)\n",
      "Requirement already satisfied: uri-template in ./venv/lib/python3.10/site-packages (from jsonschema>=4.18.0->jupyterlab-server<3,>=2.27.1->jupyterlab==4.2.4->-r requirements.txt (line 1)) (1.3.0)\n",
      "Requirement already satisfied: webcolors>=24.6.0 in ./venv/lib/python3.10/site-packages (from jsonschema>=4.18.0->jupyterlab-server<3,>=2.27.1->jupyterlab==4.2.4->-r requirements.txt (line 1)) (24.6.0)\n",
      "Requirement already satisfied: fqdn in ./venv/lib/python3.10/site-packages (from jsonschema>=4.18.0->jupyterlab-server<3,>=2.27.1->jupyterlab==4.2.4->-r requirements.txt (line 1)) (1.5.1)\n",
      "Requirement already satisfied: jsonpointer>1.13 in ./venv/lib/python3.10/site-packages (from jsonschema>=4.18.0->jupyterlab-server<3,>=2.27.1->jupyterlab==4.2.4->-r requirements.txt (line 1)) (3.0.0)\n",
      "Requirement already satisfied: isoduration in ./venv/lib/python3.10/site-packages (from jsonschema>=4.18.0->jupyterlab-server<3,>=2.27.1->jupyterlab==4.2.4->-r requirements.txt (line 1)) (20.11.0)\n",
      "Requirement already satisfied: wcwidth in ./venv/lib/python3.10/site-packages (from prompt-toolkit<3.1.0,>=3.0.41->ipython>=7.23.1->ipykernel>=6.5.0->jupyterlab==4.2.4->-r requirements.txt (line 1)) (0.2.13)\n",
      "Requirement already satisfied: cffi>=1.0.1 in ./venv/lib/python3.10/site-packages (from argon2-cffi-bindings->argon2-cffi>=21.1->jupyter-server<3,>=2.4.0->jupyterlab==4.2.4->-r requirements.txt (line 1)) (1.16.0)\n",
      "Requirement already satisfied: soupsieve>1.2 in ./venv/lib/python3.10/site-packages (from beautifulsoup4->nbconvert>=6.4.4->jupyter-server<3,>=2.4.0->jupyterlab==4.2.4->-r requirements.txt (line 1)) (2.5)\n",
      "Requirement already satisfied: pure-eval in ./venv/lib/python3.10/site-packages (from stack-data->ipython>=7.23.1->ipykernel>=6.5.0->jupyterlab==4.2.4->-r requirements.txt (line 1)) (0.2.3)\n",
      "Requirement already satisfied: executing>=1.2.0 in ./venv/lib/python3.10/site-packages (from stack-data->ipython>=7.23.1->ipykernel>=6.5.0->jupyterlab==4.2.4->-r requirements.txt (line 1)) (2.0.1)\n",
      "Requirement already satisfied: asttokens>=2.1.0 in ./venv/lib/python3.10/site-packages (from stack-data->ipython>=7.23.1->ipykernel>=6.5.0->jupyterlab==4.2.4->-r requirements.txt (line 1)) (2.4.1)\n",
      "Requirement already satisfied: pycparser in ./venv/lib/python3.10/site-packages (from cffi>=1.0.1->argon2-cffi-bindings->argon2-cffi>=21.1->jupyter-server<3,>=2.4.0->jupyterlab==4.2.4->-r requirements.txt (line 1)) (2.22)\n",
      "Requirement already satisfied: arrow>=0.15.0 in ./venv/lib/python3.10/site-packages (from isoduration->jsonschema>=4.18.0->jupyterlab-server<3,>=2.27.1->jupyterlab==4.2.4->-r requirements.txt (line 1)) (1.3.0)\n",
      "Requirement already satisfied: types-python-dateutil>=2.8.10 in ./venv/lib/python3.10/site-packages (from arrow>=0.15.0->isoduration->jsonschema>=4.18.0->jupyterlab-server<3,>=2.27.1->jupyterlab==4.2.4->-r requirements.txt (line 1)) (2.9.0.20240316)\n"
     ]
    }
   ],
   "source": [
    "!pip install -r requirements.txt"
   ]
  },
  {
   "cell_type": "code",
   "execution_count": 10,
   "id": "1380abf7acde9517",
   "metadata": {
    "collapsed": false
   },
   "outputs": [
    {
     "name": "stdout",
     "output_type": "stream",
     "text": [
      "Chunks:\n",
      "- \"Berlin is the capital and largest city of Germany, both by area and by population.\"\n",
      "- \" Its more than 3.85 million inhabitants make it the European Union's most populous city, as measured by population within city limits.\"\n",
      "- \" The city is also one of the states of Germany, and is the third smallest state in the country in terms of area.\"\n"
     ]
    }
   ],
   "source": [
    "from transformers import AutoModel\n",
    "from transformers import AutoTokenizer\n",
    "\n",
    "from chunked_pooling import chunked_pooling, chunk_by_sentences\n",
    "\n",
    "\n",
    "input_text = \"Berlin is the capital and largest city of Germany, both by area and by population. Its more than 3.85 million inhabitants make it the European Union's most populous city, as measured by population within city limits. The city is also one of the states of Germany, and is the third smallest state in the country in terms of area.\"\n",
    "\n",
    "tokenizer = AutoTokenizer.from_pretrained('jinaai/jina-embeddings-v2-base-en', trust_remote_code=True)\n",
    "model = AutoModel.from_pretrained('jinaai/jina-embeddings-v2-base-en', trust_remote_code=True)\n",
    "\n",
    "# determine chunks\n",
    "\n",
    "chunks, span_annotations = chunk_by_sentences(input_text, tokenizer)\n",
    "print('Chunks:\\n- \"' + '\"\\n- \"'.join(chunks) + '\"')\n",
    "\n",
    "# chunk before\n",
    "embeddings_traditional_chunking = model.encode(chunks)\n",
    "\n",
    "# chunk afterwards\n",
    "inputs = tokenizer(input_text, return_tensors='pt')\n",
    "model_output = model(**inputs)\n",
    "embeddings = chunked_pooling(model_output, [span_annotations])[0]"
   ]
  },
  {
   "cell_type": "code",
   "execution_count": 9,
   "id": "da0cec59a3ece76",
   "metadata": {
    "collapsed": false
   },
   "outputs": [
    {
     "name": "stdout",
     "output_type": "stream",
     "text": [
      "similarity_new(\"Berlin\", \"Berlin is the capital and largest city of Germany, both by area and by population.\"): 0.849546\n",
      "similarity_trad(\"Berlin\", \"Berlin is the capital and largest city of Germany, both by area and by population.\"): 0.84862185\n",
      "similarity_new(\"Berlin\", \" Its more than 3.85 million inhabitants make it the European Union's most populous city, as measured by population within city limits.\"): 0.82489026\n",
      "similarity_trad(\"Berlin\", \" Its more than 3.85 million inhabitants make it the European Union's most populous city, as measured by population within city limits.\"): 0.7084338\n",
      "similarity_new(\"Berlin\", \" The city is also one of the states of Germany, and is the third smallest state in the country in terms of area.\"): 0.84980094\n",
      "similarity_trad(\"Berlin\", \" The city is also one of the states of Germany, and is the third smallest state in the country in terms of area.\"): 0.7534553\n"
     ]
    }
   ],
   "source": [
    "import numpy as np\n",
    "\n",
    "cos_sim = lambda x, y: np.dot(x, y) / (np.linalg.norm(x) * np.linalg.norm(y))\n",
    "\n",
    "berlin_embedding = model.encode('Berlin')\n",
    "\n",
    "for chunk, new_embedding, trad_embeddings in zip(chunks, embeddings, embeddings_traditional_chunking):\n",
    "    print(f'similarity_new(\"Berlin\", \"{chunk}\"):', cos_sim(berlin_embedding, new_embedding))\n",
    "    print(f'similarity_trad(\"Berlin\", \"{chunk}\"):', cos_sim(berlin_embedding, trad_embeddings))"
   ]
  }
 ],
 "metadata": {
  "kernelspec": {
   "display_name": "Python 3 (ipykernel)",
   "language": "python",
   "name": "python3"
  },
  "language_info": {
   "codemirror_mode": {
    "name": "ipython",
    "version": 3
   },
   "file_extension": ".py",
   "mimetype": "text/x-python",
   "name": "python",
   "nbconvert_exporter": "python",
   "pygments_lexer": "ipython3",
   "version": "3.10.12"
  }
 },
 "nbformat": 4,
 "nbformat_minor": 5
}
